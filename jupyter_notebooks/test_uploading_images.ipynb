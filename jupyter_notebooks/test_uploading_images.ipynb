{
 "cells": [
  {
   "cell_type": "code",
   "execution_count": 92,
   "metadata": {},
   "outputs": [
    {
     "data": {
      "text/plain": [
       "<Response [200]>"
      ]
     },
     "execution_count": 92,
     "metadata": {},
     "output_type": "execute_result"
    }
   ],
   "source": [
    "import requests\n",
    "\n",
    "url = \"http://127.0.0.1:8000/api/ingest\"\n",
    "file = {\"file\": open(\"data/window.jpg\", \"rb\")}\n",
    "resp = requests.post(url=url, files=file)\n",
    "resp"
   ]
  },
  {
   "cell_type": "code",
   "execution_count": 93,
   "metadata": {},
   "outputs": [
    {
     "name": "stdout",
     "output_type": "stream",
     "text": [
      "image\n",
      "comment\n",
      "date\n",
      "latitude\n",
      "longitude\n",
      "altitude\n",
      "location\n",
      "direction\n",
      "ai_comment\n",
      "ai_comment_vector\n"
     ]
    }
   ],
   "source": [
    "list_of_values = resp.json()\n",
    "for value in list_of_values:\n",
    "    print(value)"
   ]
  },
  {
   "cell_type": "code",
   "execution_count": 94,
   "metadata": {},
   "outputs": [
    {
     "data": {
      "text/plain": [
       "\"The image shows an interior view looking out of a window. It appears to be an overcast day, and the view outside is partially obscured by a tall, light-colored wall on the right side which limits the perspective of the outdoors. On the left outside the window, you can see the rooftop of a building with multiple dormer windows, suggesting an urban residential area.\\n\\nInside, on the windowsill, there is a blue-colored, slim, rectangular object which appears to be a smartphone lying face-down. Below the windowsill, there's a heater or radiator attached to the wall. The floor is covered with what looks like wooden laminate flooring, and on the extreme bottom left of the image, there's a tiny portion of what might be another object, perhaps a piece of furniture but it's too little to identify clearly.\""
      ]
     },
     "execution_count": 94,
     "metadata": {},
     "output_type": "execute_result"
    }
   ],
   "source": [
    "list_of_values['ai_comment']"
   ]
  },
  {
   "cell_type": "code",
   "execution_count": null,
   "metadata": {},
   "outputs": [],
   "source": []
  }
 ],
 "metadata": {
  "kernelspec": {
   "display_name": ".venv",
   "language": "python",
   "name": "python3"
  },
  "language_info": {
   "codemirror_mode": {
    "name": "ipython",
    "version": 3
   },
   "file_extension": ".py",
   "mimetype": "text/x-python",
   "name": "python",
   "nbconvert_exporter": "python",
   "pygments_lexer": "ipython3",
   "version": "3.11.6"
  }
 },
 "nbformat": 4,
 "nbformat_minor": 2
}
