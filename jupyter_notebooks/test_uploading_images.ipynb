{
 "cells": [
  {
   "cell_type": "code",
   "execution_count": 88,
   "metadata": {},
   "outputs": [
    {
     "data": {
      "text/plain": [
       "<Response [200]>"
      ]
     },
     "execution_count": 88,
     "metadata": {},
     "output_type": "execute_result"
    }
   ],
   "source": [
    "import requests\n",
    "\n",
    "url = \"http://127.0.0.1:8000/api/ingest\"\n",
    "file = {\"file\": open(\"data/exit.jpg\", \"rb\")}\n",
    "resp = requests.post(url=url, files=file)\n",
    "resp"
   ]
  },
  {
   "cell_type": "code",
   "execution_count": 72,
   "metadata": {},
   "outputs": [
    {
     "name": "stdout",
     "output_type": "stream",
     "text": [
      "image\n",
      "comment\n",
      "date\n",
      "latitude\n",
      "longitude\n",
      "altitude\n",
      "location\n",
      "direction\n",
      "ai_comment\n",
      "ai_comment_vector\n"
     ]
    }
   ],
   "source": [
    "list_of_values = resp.json()\n",
    "for value in list_of_values:\n",
    "    print(value)"
   ]
  },
  {
   "cell_type": "code",
   "execution_count": 77,
   "metadata": {},
   "outputs": [
    {
     "data": {
      "text/plain": [
       "'This image appears to be of an interior door. It\\'s a standard white door featuring a modern style lever handle with a key in the lock, indicating that the door may be lockable. The image also shows some of the surrounding area:\\n\\n- To the left of the door, there is a dark countertop with a wall switch above it, which could be for lights or another electrical appliance, and on the countertop, there is an object that looks like a supplement or medication container next to a power outlet.\\n- In the bottom corner to the left of the door, there\\'s another object on the floor, but it\\'s not very clear what it is due to the image\\'s perspective and lighting.\\n- On the right, there is a garment hanging, which seems to be a coat.\\n- The shadow on the door suggests there is a light source coming from the direction of the right side of the frame.\\n\\nThere is also overlay text that appears to have been superimposed onto the image, which gives various pieces of information:\\n- \"Exit\" suggest that this door might lead outside or to an egress path.\\n- The time and date stamp with coordinates indicating latitude and longitude (with a small precision range) and the altitude suggests a specific location. The address given is \"Kipdorp 61, 2000 Antwerpen,\" which implies the image was taken in Antwerp, Belgium.\\n- An \"N\" with an arrow in the bottom right corner indicates the north direction'"
      ]
     },
     "execution_count": 77,
     "metadata": {},
     "output_type": "execute_result"
    }
   ],
   "source": [
    "list_of_values['ai_comment']"
   ]
  },
  {
   "cell_type": "code",
   "execution_count": null,
   "metadata": {},
   "outputs": [],
   "source": []
  }
 ],
 "metadata": {
  "kernelspec": {
   "display_name": ".venv",
   "language": "python",
   "name": "python3"
  },
  "language_info": {
   "codemirror_mode": {
    "name": "ipython",
    "version": 3
   },
   "file_extension": ".py",
   "mimetype": "text/x-python",
   "name": "python",
   "nbconvert_exporter": "python",
   "pygments_lexer": "ipython3",
   "version": "3.11.6"
  }
 },
 "nbformat": 4,
 "nbformat_minor": 2
}
